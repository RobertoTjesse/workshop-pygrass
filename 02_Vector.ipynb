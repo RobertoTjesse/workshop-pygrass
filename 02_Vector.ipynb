{
 "metadata": {
  "name": "pygrass - Vector (session 1)"
 },
 "nbformat": 3,
 "nbformat_minor": 0,
 "worksheets": [
  {
   "cells": [
    {
     "cell_type": "heading",
     "level": 1,
     "metadata": {},
     "source": "Vector"
    },
    {
     "cell_type": "heading",
     "level": 2,
     "metadata": {},
     "source": "GRASS topology"
    },
    {
     "cell_type": "markdown",
     "metadata": {},
     "source": "Import required *vector* and *general* librairies"
    },
    {
     "cell_type": "code",
     "collapsed": false,
     "input": "from grass.pygrass.vector import VectorTopo\nfrom grass.pygrass.modules import general as g\nfrom grass.pygrass.modules import vector as v",
     "language": "python",
     "metadata": {},
     "outputs": [],
     "prompt_number": 1
    },
    {
     "cell_type": "markdown",
     "metadata": {},
     "source": "a few simple examples using some generic grass modules"
    },
    {
     "cell_type": "code",
     "collapsed": false,
     "input": "g.mlist(type=\"rast\")",
     "language": "python",
     "metadata": {},
     "outputs": [],
     "prompt_number": 2
    },
    {
     "cell_type": "markdown",
     "metadata": {},
     "source": "the ouput appears in the console!"
    },
    {
     "cell_type": "code",
     "collapsed": false,
     "input": "g.mlist(type=\"vect\")",
     "language": "python",
     "metadata": {},
     "outputs": [],
     "prompt_number": 3
    },
    {
     "cell_type": "code",
     "collapsed": false,
     "input": "g.mapset(mapset=\"user1\")",
     "language": "python",
     "metadata": {},
     "outputs": [],
     "prompt_number": 4
    },
    {
     "cell_type": "markdown",
     "metadata": {},
     "source": "let's try something wrong on purpose!"
    },
    {
     "cell_type": "code",
     "collapsed": false,
     "input": "g.mlist(type=\"rast\", flags='l')",
     "language": "python",
     "metadata": {},
     "outputs": [
      {
       "ename": "ValueError",
       "evalue": "Flag not valid: 'l', valid flag are: ['r', 'e', 't', 'm', 'p', 'f']",
       "output_type": "pyerr",
       "traceback": [
        "\u001b[0;31m---------------------------------------------------------------------------\u001b[0m\n\u001b[0;31mValueError\u001b[0m                                Traceback (most recent call last)",
        "\u001b[0;32m<ipython-input-5-c909d740c8ee>\u001b[0m in \u001b[0;36m<module>\u001b[0;34m()\u001b[0m\n\u001b[0;32m----> 1\u001b[0;31m \u001b[0mg\u001b[0m\u001b[0;34m.\u001b[0m\u001b[0mmlist\u001b[0m\u001b[0;34m(\u001b[0m\u001b[0mtype\u001b[0m\u001b[0;34m=\u001b[0m\u001b[0;34m\"rast\"\u001b[0m\u001b[0;34m,\u001b[0m \u001b[0mflags\u001b[0m\u001b[0;34m=\u001b[0m\u001b[0;34m'l'\u001b[0m\u001b[0;34m)\u001b[0m\u001b[0;34m\u001b[0m\u001b[0m\n\u001b[0m",
        "\u001b[0;32m/geo/osgeo/src/grass_trunk/dist.x86_64-unknown-linux-gnu/etc/python/grass/pygrass/modules/__init__.pyc\u001b[0m in \u001b[0;36m__call__\u001b[0;34m(self, *args, **kargs)\u001b[0m\n\u001b[1;32m    475\u001b[0m         \u001b[0;31m#\u001b[0m\u001b[0;34m\u001b[0m\u001b[0;34m\u001b[0m\u001b[0m\n\u001b[1;32m    476\u001b[0m         \u001b[0;32mif\u001b[0m \u001b[0;34m'flags'\u001b[0m \u001b[0;32min\u001b[0m \u001b[0mkargs\u001b[0m\u001b[0;34m:\u001b[0m\u001b[0;34m\u001b[0m\u001b[0m\n\u001b[0;32m--> 477\u001b[0;31m             \u001b[0mself\u001b[0m\u001b[0;34m.\u001b[0m\u001b[0mflags\u001b[0m \u001b[0;34m=\u001b[0m \u001b[0mkargs\u001b[0m\u001b[0;34m[\u001b[0m\u001b[0;34m'flags'\u001b[0m\u001b[0;34m]\u001b[0m\u001b[0;34m\u001b[0m\u001b[0m\n\u001b[0m\u001b[1;32m    478\u001b[0m             \u001b[0;32mdel\u001b[0m\u001b[0;34m(\u001b[0m\u001b[0mkargs\u001b[0m\u001b[0;34m[\u001b[0m\u001b[0;34m'flags'\u001b[0m\u001b[0;34m]\u001b[0m\u001b[0;34m)\u001b[0m\u001b[0;34m\u001b[0m\u001b[0m\n\u001b[1;32m    479\u001b[0m         \u001b[0;32mif\u001b[0m \u001b[0;34m'run_'\u001b[0m \u001b[0;32min\u001b[0m \u001b[0mkargs\u001b[0m\u001b[0;34m:\u001b[0m\u001b[0;34m\u001b[0m\u001b[0m\n",
        "\u001b[0;32m/geo/osgeo/src/grass_trunk/dist.x86_64-unknown-linux-gnu/etc/python/grass/pygrass/modules/__init__.pyc\u001b[0m in \u001b[0;36m_set_flags\u001b[0;34m(self, value)\u001b[0m\n\u001b[1;32m    461\u001b[0m                     \u001b[0;32melse\u001b[0m\u001b[0;34m:\u001b[0m\u001b[0;34m\u001b[0m\u001b[0m\n\u001b[1;32m    462\u001b[0m                         \u001b[0mstr_err\u001b[0m \u001b[0;34m=\u001b[0m \u001b[0;34m'Flag not valid: %r, valid flag are: %r'\u001b[0m\u001b[0;34m\u001b[0m\u001b[0m\n\u001b[0;32m--> 463\u001b[0;31m                         \u001b[0;32mraise\u001b[0m \u001b[0mValueError\u001b[0m\u001b[0;34m(\u001b[0m\u001b[0mstr_err\u001b[0m \u001b[0;34m%\u001b[0m \u001b[0;34m(\u001b[0m\u001b[0mval\u001b[0m\u001b[0;34m,\u001b[0m \u001b[0mflgs\u001b[0m\u001b[0;34m)\u001b[0m\u001b[0;34m)\u001b[0m\u001b[0;34m\u001b[0m\u001b[0m\n\u001b[0m\u001b[1;32m    464\u001b[0m         \u001b[0;32melse\u001b[0m\u001b[0;34m:\u001b[0m\u001b[0;34m\u001b[0m\u001b[0m\n\u001b[1;32m    465\u001b[0m             \u001b[0;32mraise\u001b[0m \u001b[0mTypeError\u001b[0m\u001b[0;34m(\u001b[0m\u001b[0;34m'The flags attribute must be a string'\u001b[0m\u001b[0;34m)\u001b[0m\u001b[0;34m\u001b[0m\u001b[0m\n",
        "\u001b[0;31mValueError\u001b[0m: Flag not valid: 'l', valid flag are: ['r', 'e', 't', 'm', 'p', 'f']"
       ]
      }
     ],
     "prompt_number": 5
    },
    {
     "cell_type": "code",
     "collapsed": false,
     "input": "g.mapset(mapset=\"pareto_examples\", flags='p')",
     "language": "python",
     "metadata": {},
     "outputs": [],
     "prompt_number": 6
    },
    {
     "cell_type": "code",
     "collapsed": false,
     "input": "g.mlist(type=\"vect\")",
     "language": "python",
     "metadata": {},
     "outputs": [],
     "prompt_number": 7
    },
    {
     "cell_type": "code",
     "collapsed": false,
     "input": "g.mapset(mapset=\"user1\", flags='p')",
     "language": "python",
     "metadata": {},
     "outputs": [],
     "prompt_number": 8
    },
    {
     "cell_type": "code",
     "collapsed": false,
     "input": "g.mlist(type=\"vect\")",
     "language": "python",
     "metadata": {},
     "outputs": [],
     "prompt_number": 9
    },
    {
     "cell_type": "code",
     "collapsed": false,
     "input": "g.mapset(mapset=\"pareto_examples\")",
     "language": "python",
     "metadata": {},
     "outputs": [],
     "prompt_number": 10
    },
    {
     "cell_type": "code",
     "collapsed": false,
     "input": "g.mapset(mapset=\"pareto_examples\", flags='p')",
     "language": "python",
     "metadata": {},
     "outputs": [],
     "prompt_number": 11
    },
    {
     "cell_type": "code",
     "collapsed": false,
     "input": "g.mlist(type=\"vect\")",
     "language": "python",
     "metadata": {},
     "outputs": [],
     "prompt_number": 12
    },
    {
     "cell_type": "code",
     "collapsed": false,
     "input": "g.mapsets(operation=\"remove\", mapset=\"PERMANENT\")",
     "language": "python",
     "metadata": {},
     "outputs": [],
     "prompt_number": 13
    },
    {
     "cell_type": "code",
     "collapsed": false,
     "input": "g.mlist(type=\"vect\")",
     "language": "python",
     "metadata": {},
     "outputs": [],
     "prompt_number": 14
    },
    {
     "cell_type": "raw",
     "metadata": {},
     "source": "Start playing with vector data"
    },
    {
     "cell_type": "markdown",
     "metadata": {},
     "source": "instantiating a *points* object"
    },
    {
     "cell_type": "code",
     "collapsed": false,
     "input": "points = VectorTopo(\"pareto_ref_coi_points___landcover_refcoi\")",
     "language": "python",
     "metadata": {},
     "outputs": [],
     "prompt_number": 15
    },
    {
     "cell_type": "markdown",
     "metadata": {},
     "source": "now, use the *.name* method (or should we call it function?) on the *points* object"
    },
    {
     "cell_type": "code",
     "collapsed": false,
     "input": "points.name",
     "language": "python",
     "metadata": {},
     "outputs": [
      {
       "output_type": "pyout",
       "prompt_number": 16,
       "text": "'pareto_ref_coi_points___landcover_refcoi'"
      }
     ],
     "prompt_number": 16
    },
    {
     "cell_type": "markdown",
     "metadata": {},
     "source": "and the *.mapset* method"
    },
    {
     "cell_type": "code",
     "collapsed": false,
     "input": "points.mapset",
     "language": "python",
     "metadata": {},
     "outputs": [
      {
       "output_type": "pyout",
       "prompt_number": 17,
       "text": "'pareto_examples'"
      }
     ],
     "prompt_number": 17
    },
    {
     "cell_type": "markdown",
     "metadata": {},
     "source": "there is a **bbox()** function that returns... well, the bounding box coordinates!"
    },
    {
     "cell_type": "code",
     "collapsed": false,
     "input": "points.bbox()",
     "language": "python",
     "metadata": {},
     "outputs": [],
     "prompt_number": 18
    },
    {
     "cell_type": "markdown",
     "metadata": {},
     "source": "No bounding box coordinates returned. Why? *Because the map is not accessible. We need to open it first!*"
    },
    {
     "cell_type": "markdown",
     "metadata": {},
     "source": "Let's open and ask for **bbox()**"
    },
    {
     "cell_type": "code",
     "collapsed": false,
     "input": "points.open()\npoints.bbox()",
     "language": "python",
     "metadata": {},
     "outputs": [
      {
       "output_type": "pyout",
       "prompt_number": 19,
       "text": "Bbox(4926985.07463, 4925014.92537, 593485.042735, 590014.957265)"
      }
     ],
     "prompt_number": 19
    },
    {
     "cell_type": "markdown",
     "metadata": {},
     "source": "What is the current database backend?"
    },
    {
     "cell_type": "code",
     "collapsed": false,
     "input": "points.c_mapinfo.contents.dblnk.contents.field.contents.driver",
     "language": "python",
     "metadata": {},
     "outputs": [
      {
       "output_type": "pyout",
       "prompt_number": 20,
       "text": "'sqlite'"
      }
     ],
     "prompt_number": 20
    },
    {
     "cell_type": "code",
     "collapsed": false,
     "input": "points.date #TODO: why is it not working?",
     "language": "python",
     "metadata": {},
     "outputs": [
      {
       "output_type": "pyout",
       "prompt_number": 21,
       "text": "''"
      }
     ],
     "prompt_number": 21
    },
    {
     "cell_type": "markdown",
     "metadata": {},
     "source": "With the **exist()** function we can check if a map exists, of course."
    },
    {
     "cell_type": "code",
     "collapsed": false,
     "input": "points.exist()",
     "language": "python",
     "metadata": {},
     "outputs": [
      {
       "output_type": "pyout",
       "prompt_number": 22,
       "text": "True"
      }
     ],
     "prompt_number": 22
    },
    {
     "cell_type": "markdown",
     "metadata": {},
     "source": "Checking geometries..."
    },
    {
     "cell_type": "code",
     "collapsed": false,
     "input": "points.num_primitive_of(\"point\") # TODO: fix the error, get the file from Nikos",
     "language": "python",
     "metadata": {},
     "outputs": [
      {
       "output_type": "pyout",
       "prompt_number": 23,
       "text": "4883"
      }
     ],
     "prompt_number": 23
    },
    {
     "cell_type": "code",
     "collapsed": false,
     "input": "points.number_of(\"areas\")",
     "language": "python",
     "metadata": {},
     "outputs": [
      {
       "output_type": "pyout",
       "prompt_number": 24,
       "text": "0"
      }
     ],
     "prompt_number": 24
    },
    {
     "cell_type": "markdown",
     "metadata": {},
     "source": "There is **viter()**, an iteration function. Useful to perform tasks on each geometry primitive."
    },
    {
     "cell_type": "code",
     "collapsed": false,
     "input": "count = 0\nfor pnt in points.viter(\"points\"):\n    count += 1\nprint count",
     "language": "python",
     "metadata": {},
     "outputs": [
      {
       "output_type": "stream",
       "stream": "stdout",
       "text": "4883\n"
      }
     ],
     "prompt_number": 25
    },
    {
     "cell_type": "markdown",
     "metadata": {},
     "source": "Now, let's instantiate a new object and *ask* if it exists"
    },
    {
     "cell_type": "code",
     "collapsed": false,
     "input": "new = VectorTopo(\"very_new\")\nnew.exist()",
     "language": "python",
     "metadata": {},
     "outputs": [
      {
       "output_type": "pyout",
       "prompt_number": 26,
       "text": "False"
      }
     ],
     "prompt_number": 26
    },
    {
     "cell_type": "markdown",
     "metadata": {},
     "source": "The object *new* does not exist although it we just created it. Why?"
    },
    {
     "cell_type": "markdown",
     "metadata": {},
     "source": "Remember, we have to open a map in order to be able to read it, manipulate it and write data into it."
    },
    {
     "cell_type": "markdown",
     "metadata": {},
     "source": "Below, we can try something which is a bit more than simple."
    },
    {
     "cell_type": "code",
     "collapsed": false,
     "input": "# import the random function\nimport random\n\n# import the Point and Region functions?\nfrom pygrass.vector.geometry import Point\nfrom pygrass.region import Region\n\n# instantiate a constant\nNPNTS = 10\n\n# define a function to produce random points\ndef get_random_points(num):\n    # inside current GRASS' region of course\n    reg = Region()\n    # loop over a series of numbers from 0 up to...\n    for _ in xrange(0, num):\n        # use the function randrange() to get both x and y random numbers\n        x = random.randrange(reg.south, reg.north)\n        y = random.randrange(reg.west, reg.east)\n        # at the end of each loop we need to explicitly catch the pairs of x and y numbers\n        # in order to produce a point\n        yield Point(x, y)\n",
     "language": "python",
     "metadata": {},
     "outputs": [],
     "prompt_number": 29
    },
    {
     "cell_type": "markdown",
     "metadata": {},
     "source": "Something more complex which comprises:\n\n- loading parts from the *grass* and the *vector* librariries # **vector** from grass.lib, **VectorTopo** from pygrass.vector\n\n- instatiating a new object/map # simply **new** **=** **instruction**\n\n- check for and remove existing maps with the same name # **exist()**, **remove()**\n\n- open the new map in order to use it # **open()**\n\n- fill in with random points # use the previous custom function **get_random_points()**\n\n- close the map to ensure... #what?\n\n- build the topology # **build()**\n\n- use functions to count geometries # **num_primitive_of()**, **number_of()**\n\n- use the viter function, just to proove the *iteration* concept # **viter()**\n\n- check the new bounding box # **bbox()**\n\n- check the **rewind()** function"
    },
    {
     "cell_type": "code",
     "collapsed": false,
     "input": "from grass.lib import vector as libvect\nfrom pygrass.vector import VectorTopo, Vector\n\n\nnew = VectorTopo('newvect')\nif new.exist():\n    new.remove()\n\nnew.open(\"w\")\nfor pnt in get_random_points(NPNTS):\n    print(pnt)\n    new.write(pnt)\n\n\nnew.close()\nprint(\"is open: %r\\n\" % new.is_open())\nprint(\"Exist: %r\\n\" % new.exist())\nnew.build()\n\nnew.open('r')\nprint(\"Number of primitives: %r\\n\" % new.num_primitive_of('point'))\nprint(\"Number of points: %r\\n\" % new.number_of('points'))\n\nfor pnt in new.viter('points'):\n    print(pnt)\n\nprint(new.bbox())\nnew.close()\n\nnew_wt = Vector('newvect')\nnew_wt.open('r')\nfor pnt in new_wt:\n    print(pnt)\n\nnew_wt.rewind()\n\nnew_wt.next()\nnew_wt.close()\n",
     "language": "python",
     "metadata": {},
     "outputs": [
      {
       "ename": "TypeError",
       "evalue": "'bool' object is not callable",
       "output_type": "pyerr",
       "traceback": [
        "\u001b[0;31m---------------------------------------------------------------------------\u001b[0m\n\u001b[0;31mTypeError\u001b[0m                                 Traceback (most recent call last)",
        "\u001b[0;32m<ipython-input-31-1f9f97290d68>\u001b[0m in \u001b[0;36m<module>\u001b[0;34m()\u001b[0m\n\u001b[1;32m     10\u001b[0m \u001b[0;32mfor\u001b[0m \u001b[0mpnt\u001b[0m \u001b[0;32min\u001b[0m \u001b[0mget_random_points\u001b[0m\u001b[0;34m(\u001b[0m\u001b[0mNPNTS\u001b[0m\u001b[0;34m)\u001b[0m\u001b[0;34m:\u001b[0m\u001b[0;34m\u001b[0m\u001b[0m\n\u001b[1;32m     11\u001b[0m     \u001b[0;32mprint\u001b[0m\u001b[0;34m(\u001b[0m\u001b[0mpnt\u001b[0m\u001b[0;34m)\u001b[0m\u001b[0;34m\u001b[0m\u001b[0m\n\u001b[0;32m---> 12\u001b[0;31m     \u001b[0mnew\u001b[0m\u001b[0;34m.\u001b[0m\u001b[0mwrite\u001b[0m\u001b[0;34m(\u001b[0m\u001b[0mpnt\u001b[0m\u001b[0;34m)\u001b[0m\u001b[0;34m\u001b[0m\u001b[0m\n\u001b[0m\u001b[1;32m     13\u001b[0m \u001b[0;34m\u001b[0m\u001b[0m\n\u001b[1;32m     14\u001b[0m \u001b[0;34m\u001b[0m\u001b[0m\n",
        "\u001b[0;31mTypeError\u001b[0m: 'bool' object is not callable"
       ]
      },
      {
       "output_type": "stream",
       "stream": "stdout",
       "text": "POINT(4926778.000000, 591767.000000)\n"
      }
     ],
     "prompt_number": 31
    },
    {
     "cell_type": "code",
     "collapsed": false,
     "input": "",
     "language": "python",
     "metadata": {},
     "outputs": []
    }
   ],
   "metadata": {}
  }
 ]
}