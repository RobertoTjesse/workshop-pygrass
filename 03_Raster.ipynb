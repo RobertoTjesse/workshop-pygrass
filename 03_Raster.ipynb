{
 "metadata": {
  "name": "03_Raster"
 },
 "nbformat": 3,
 "nbformat_minor": 0,
 "worksheets": [
  {
   "cells": [
    {
     "cell_type": "heading",
     "level": 1,
     "metadata": {},
     "source": [
      "Raster"
     ]
    },
    {
     "cell_type": "markdown",
     "metadata": {},
     "source": [
      "The pygrass interface for raster maps is divided in 4 classes that represent different ways to interact with rasters. In order to give greater freedom of implementation to users and developers, each class\n",
      "uses a different C API, providing the tools to fit different needs. \n",
      "\n",
      "The **RasterRow** class reads the content of the raster row by row and writes it in a sequential mode: row after row. \n",
      "To read and write the same map at the same time is not supported by the RasterRow class. \n",
      "\n",
      "The **RasterRowIO** class implements a row cache that allows users to read and re-read raster rows randomly. \n",
      "\n",
      "The **RasterSegment** class divides the map into several tiles, each tile is saved into a file. With this class it is possible to read and write the pixel value randomly at the same time in the same map. \n",
      "\n",
      "The **RasterNumpy** class inherits from a numpy.memmap class and allows users to interact with the map as numpy matrix. \n",
      "\n",
      "All the Raster classes shared common methods to open, read and get raster information and write meta-data like: categories and history. Similarly to Vector class, the same syntax has been used to instantiate a raster object.\n"
     ]
    },
    {
     "cell_type": "code",
     "collapsed": false,
     "input": [
      "from grass.pygrass.raster import RasterRow"
     ],
     "language": "python",
     "metadata": {},
     "outputs": []
    },
    {
     "cell_type": "code",
     "collapsed": false,
     "input": [
      "elev = RasterRow('elevation')"
     ],
     "language": "python",
     "metadata": {},
     "outputs": []
    },
    {
     "cell_type": "code",
     "collapsed": false,
     "input": [
      "elev.exist()"
     ],
     "language": "python",
     "metadata": {},
     "outputs": []
    },
    {
     "cell_type": "code",
     "collapsed": false,
     "input": [
      "elev.mapset"
     ],
     "language": "python",
     "metadata": {},
     "outputs": []
    },
    {
     "cell_type": "code",
     "collapsed": false,
     "input": [
      "elev.info"
     ],
     "language": "python",
     "metadata": {},
     "outputs": []
    },
    {
     "cell_type": "heading",
     "level": 3,
     "metadata": {},
     "source": [
      "Open a raster map"
     ]
    },
    {
     "cell_type": "code",
     "collapsed": false,
     "input": [
      "elev.open('r')"
     ],
     "language": "python",
     "metadata": {},
     "outputs": []
    },
    {
     "cell_type": "code",
     "collapsed": false,
     "input": [
      "elev[0][:5]"
     ],
     "language": "python",
     "metadata": {},
     "outputs": []
    },
    {
     "cell_type": "code",
     "collapsed": false,
     "input": [
      "elev[0]/100."
     ],
     "language": "python",
     "metadata": {},
     "outputs": []
    },
    {
     "cell_type": "code",
     "collapsed": false,
     "input": [
      "import numpy as np\n",
      "np.sin(elev[0])"
     ],
     "language": "python",
     "metadata": {},
     "outputs": []
    },
    {
     "cell_type": "heading",
     "level": 3,
     "metadata": {},
     "source": [
      "Write a new raster map"
     ]
    },
    {
     "cell_type": "code",
     "collapsed": false,
     "input": [
      "new = RasterRow('new')\n",
      "new.open('w', overwrite=True)\n",
      "for row in elev:\n",
      "    new.put_row(row)\n",
      "new.close()"
     ],
     "language": "python",
     "metadata": {},
     "outputs": []
    },
    {
     "cell_type": "code",
     "collapsed": false,
     "input": [
      "new.exist()"
     ],
     "language": "python",
     "metadata": {},
     "outputs": []
    },
    {
     "cell_type": "heading",
     "level": 3,
     "metadata": {},
     "source": [
      "Exercise"
     ]
    },
    {
     "cell_type": "markdown",
     "metadata": {},
     "source": [
      "Write a function that do the same operation of:\n",
      "    \n",
      "    r.mapcalc expression=\"new = if(elevation>100, elevation, 0)\""
     ]
    },
    {
     "cell_type": "code",
     "collapsed": false,
     "input": [],
     "language": "python",
     "metadata": {},
     "outputs": []
    },
    {
     "cell_type": "heading",
     "level": 3,
     "metadata": {},
     "source": [
      "Exercise"
     ]
    },
    {
     "cell_type": "markdown",
     "metadata": {},
     "source": [
      "Write a function that generate a random vector points map and query the raster map and add the value of the raster map to the attributes table of the vector map"
     ]
    },
    {
     "cell_type": "code",
     "collapsed": false,
     "input": [],
     "language": "python",
     "metadata": {},
     "outputs": []
    }
   ],
   "metadata": {}
  }
 ]
}