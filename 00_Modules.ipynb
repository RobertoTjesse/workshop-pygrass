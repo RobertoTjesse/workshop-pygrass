{
 "metadata": {
  "name": "pygrass - Modules"
 },
 "nbformat": 3,
 "nbformat_minor": 0,
 "worksheets": [
  {
   "cells": [
    {
     "cell_type": "heading",
     "level": 1,
     "metadata": {},
     "source": [
      "Modules"
     ]
    },
    {
     "cell_type": "heading",
     "level": 2,
     "metadata": {},
     "source": [
      "Replace BASH"
     ]
    },
    {
     "cell_type": "markdown",
     "metadata": {},
     "source": [
      "Import grass script core module, that have usefull functions:"
     ]
    },
    {
     "cell_type": "code",
     "collapsed": false,
     "input": [
      "from grass.script import core as gcore"
     ],
     "language": "python",
     "metadata": {},
     "outputs": []
    },
    {
     "cell_type": "markdown",
     "metadata": {},
     "source": [
      "User that want just to replace BASH with python have to import modules in the following maner:"
     ]
    },
    {
     "cell_type": "code",
     "collapsed": false,
     "input": [
      "from grass.pygrass.modules import raster as r\n",
      "from grass.pygrass.modules import vector as v\n",
      "from grass.pygrass.modules import general as g"
     ],
     "language": "python",
     "metadata": {},
     "outputs": [],
     "prompt_number": 69
    },
    {
     "cell_type": "markdown",
     "metadata": {},
     "source": [
      "And then call the grass modules, if the name of the grass module contains \".\" you should replace it with \"_\". See the example bellow:"
     ]
    },
    {
     "cell_type": "code",
     "collapsed": false,
     "input": [
      "gcore.list_pairs(type='rast')"
     ],
     "language": "python",
     "metadata": {},
     "outputs": []
    },
    {
     "cell_type": "code",
     "collapsed": false,
     "input": [
      "r.info(map='elevation')\n",
      "r.slope_aspect(elevation='elevation', slope='slope', aspect='aspect', overwrite=True)\n",
      "r.mapcalc(\"slope_gt100 = if(slope > 100, slope)\", overwrite=True)\n",
      "r.info(map='slope_gt100')"
     ],
     "language": "python",
     "metadata": {},
     "outputs": []
    },
    {
     "cell_type": "markdown",
     "metadata": {},
     "source": [
      "Some small tips of the new interface in python/ipython:\n",
      "\n",
      "    * use the Tab inside breaks give the help of the command;\n",
      "    * or using:"
     ]
    },
    {
     "cell_type": "code",
     "collapsed": false,
     "input": [
      "r.slope_aspect?"
     ],
     "language": "python",
     "metadata": {},
     "outputs": []
    },
    {
     "cell_type": "markdown",
     "metadata": {},
     "source": [
      "Do something with the vectors:"
     ]
    },
    {
     "cell_type": "code",
     "collapsed": false,
     "input": [
      "gcore.list_pairs(type='vect')"
     ],
     "language": "python",
     "metadata": {},
     "outputs": []
    },
    {
     "cell_type": "code",
     "collapsed": false,
     "input": [
      "v.to_rast(input='hospitals', output='hospitals', type=\"point\", use='cat', overwrite=True, quiet=True)"
     ],
     "language": "python",
     "metadata": {},
     "outputs": []
    },
    {
     "cell_type": "code",
     "collapsed": false,
     "input": [
      "gcore.list_pairs(type='rast')"
     ],
     "language": "python",
     "metadata": {},
     "outputs": []
    },
    {
     "cell_type": "heading",
     "level": 3,
     "metadata": {},
     "source": [
      "Exercise 1"
     ]
    },
    {
     "cell_type": "markdown",
     "metadata": {},
     "source": [
      "Transform the following bash script:"
     ]
    },
    {
     "cell_type": "code",
     "collapsed": false,
     "input": [
      "%%bash\n",
      "#\n",
      "# Compute the distance from a road\n",
      "#\n",
      "\n",
      "# set the region to elevation map:\n",
      "g.region rast=elevation\n",
      "\n",
      "# convert street vector to raster\n",
      "v.to.rast input=streets type=line output=streets use=cat --overwrite\n",
      "\n",
      "# create a unitary map of the cost\n",
      "r.mapcalc expression=\"dist_cost=10./cos(slope)\" --overwrite\n",
      "\n",
      "# compute the distance\n",
      "r.cost input=dist_cost output=distance_from_streets outdir=direction start_rast=streets -k --overwrite \n"
     ],
     "language": "python",
     "metadata": {},
     "outputs": []
    },
    {
     "cell_type": "markdown",
     "metadata": {},
     "source": [
      "into a python one:"
     ]
    },
    {
     "cell_type": "code",
     "collapsed": false,
     "input": [],
     "language": "python",
     "metadata": {},
     "outputs": []
    },
    {
     "cell_type": "heading",
     "level": 2,
     "metadata": {},
     "source": [
      "Backport compatibility"
     ]
    },
    {
     "cell_type": "markdown",
     "metadata": {},
     "source": [
      "If you have a python script and want to convert it to use the new python interface, you just neet to transform:"
     ]
    },
    {
     "cell_type": "code",
     "collapsed": false,
     "input": [
      "#from grass.script.core import run_command\n",
      "from grass.pygrass.modules import Module as run_command\n",
      "\n",
      "run_command(\"r.info\", map='elevation')\n",
      "#etc..."
     ],
     "language": "python",
     "metadata": {},
     "outputs": []
    },
    {
     "cell_type": "heading",
     "level": 2,
     "metadata": {},
     "source": [
      "Module as object"
     ]
    },
    {
     "cell_type": "markdown",
     "metadata": {},
     "source": [
      "Import the Module class, and instantiate the command, the name of the GRASS module is required."
     ]
    },
    {
     "cell_type": "code",
     "collapsed": false,
     "input": [
      "from grass.pygrass.modules import Module\n",
      "\n",
      "slp = Module(\"r.slope.aspect\")"
     ],
     "language": "python",
     "metadata": {},
     "outputs": []
    },
    {
     "cell_type": "heading",
     "level": 3,
     "metadata": {},
     "source": [
      "Attributes"
     ]
    },
    {
     "cell_type": "code",
     "collapsed": false,
     "input": [
      "slp.name"
     ],
     "language": "python",
     "metadata": {},
     "outputs": []
    },
    {
     "cell_type": "code",
     "collapsed": false,
     "input": [
      "slope_aspect.description"
     ],
     "language": "python",
     "metadata": {},
     "outputs": []
    },
    {
     "cell_type": "code",
     "collapsed": false,
     "input": [
      "slope_aspect.keywords"
     ],
     "language": "python",
     "metadata": {},
     "outputs": []
    },
    {
     "cell_type": "code",
     "collapsed": false,
     "input": [
      "slope_aspect.label"
     ],
     "language": "python",
     "metadata": {},
     "outputs": []
    },
    {
     "cell_type": "code",
     "collapsed": false,
     "input": [
      "# get the documentation of the module\n",
      "print slp.__doc__"
     ],
     "language": "python",
     "metadata": {},
     "outputs": []
    },
    {
     "cell_type": "markdown",
     "metadata": {},
     "source": [
      "The instantiate module split the parameters in:\n",
      "\n",
      "    * inputs\n",
      "    * outputs\n",
      "\n",
      "both parameters are an [OrderedDict](http://docs.python.org/2/library/collections.html#collections.OrderedDict) python object. Rather tha the required attribute return a list of the parameters that are required.\n",
      "\n"
     ]
    },
    {
     "cell_type": "code",
     "collapsed": false,
     "input": [
      "slp.inputs"
     ],
     "language": "python",
     "metadata": {},
     "outputs": []
    },
    {
     "cell_type": "code",
     "collapsed": false,
     "input": [
      "slp.outputs"
     ],
     "language": "python",
     "metadata": {},
     "outputs": []
    },
    {
     "cell_type": "code",
     "collapsed": false,
     "input": [
      "slp.required"
     ],
     "language": "python",
     "metadata": {},
     "outputs": []
    },
    {
     "cell_type": "code",
     "collapsed": false,
     "input": [
      "slp.inputs['elevation']"
     ],
     "language": "python",
     "metadata": {},
     "outputs": []
    },
    {
     "cell_type": "code",
     "collapsed": false,
     "input": [
      "slp.inputs[\"elevation\"].value = \"elevation\""
     ],
     "language": "python",
     "metadata": {},
     "outputs": []
    },
    {
     "cell_type": "code",
     "collapsed": false,
     "input": [
      "slp.inputs[\"elevation\"].value"
     ],
     "language": "python",
     "metadata": {},
     "outputs": []
    },
    {
     "cell_type": "code",
     "collapsed": false,
     "input": [
      "slp.inputs[\"format\"]"
     ],
     "language": "python",
     "metadata": {},
     "outputs": []
    },
    {
     "cell_type": "code",
     "collapsed": false,
     "input": [
      "print slp.inputs[\"format\"].__doc__"
     ],
     "language": "python",
     "metadata": {},
     "outputs": []
    },
    {
     "cell_type": "code",
     "collapsed": false,
     "input": [
      "slp.inputs[\"format\"].value = 'percents'"
     ],
     "language": "python",
     "metadata": {},
     "outputs": []
    },
    {
     "cell_type": "code",
     "collapsed": false,
     "input": [
      "slp.inputs[\"format\"].value = 'percent'"
     ],
     "language": "python",
     "metadata": {},
     "outputs": []
    },
    {
     "cell_type": "code",
     "collapsed": false,
     "input": [
      "slp.flags = \"g\""
     ],
     "language": "python",
     "metadata": {},
     "outputs": []
    },
    {
     "cell_type": "code",
     "collapsed": false,
     "input": [
      "slp.flags = \"a\""
     ],
     "language": "python",
     "metadata": {},
     "outputs": []
    },
    {
     "cell_type": "code",
     "collapsed": false,
     "input": [
      "slp.flags_dict['overwrite'] # --overwrite, --verbose, --quite"
     ],
     "language": "python",
     "metadata": {},
     "outputs": []
    },
    {
     "cell_type": "code",
     "collapsed": false,
     "input": [
      "slp.flags_dict['overwrite'].value = True\n",
      "\n",
      "# run the module\n",
      "slp() # or slp.run()"
     ],
     "language": "python",
     "metadata": {},
     "outputs": []
    },
    {
     "cell_type": "heading",
     "level": 3,
     "metadata": {},
     "source": [
      "Methods"
     ]
    },
    {
     "cell_type": "code",
     "collapsed": false,
     "input": [
      "print slp  # __str__"
     ],
     "language": "python",
     "metadata": {},
     "outputs": []
    },
    {
     "cell_type": "code",
     "collapsed": false,
     "input": [
      "repr(slp)  # __repr__"
     ],
     "language": "python",
     "metadata": {},
     "outputs": []
    },
    {
     "cell_type": "code",
     "collapsed": false,
     "input": [
      "from grass.pygrass.modules import Module\n",
      "slp = Module(\"r.slope.aspect\")\n",
      "slp(elevation='elevation', slope='slp',  aspect='asp', format='percent', overwrite=True, verbose=False, flags='a', run_=False)\n",
      "print slp.get_bash()\n",
      "print slp.get_python()"
     ],
     "language": "python",
     "metadata": {},
     "outputs": []
    },
    {
     "cell_type": "heading",
     "level": 2,
     "metadata": {},
     "source": [
      "Run as a function"
     ]
    },
    {
     "cell_type": "code",
     "collapsed": false,
     "input": [
      "slp(elevation='elevation', slope='slp',  aspect='asp', format='percent', overwrite=True)"
     ],
     "language": "python",
     "metadata": {},
     "outputs": []
    },
    {
     "cell_type": "heading",
     "level": 2,
     "metadata": {},
     "source": [
      "Special parameters"
     ]
    },
    {
     "cell_type": "heading",
     "level": 3,
     "metadata": {},
     "source": [
      "\"run_\" to run later"
     ]
    },
    {
     "cell_type": "code",
     "collapsed": false,
     "input": [
      "slp(elevation='elevation', slope='slp',  aspect='asp', format='percent', overwrite=True, run_=False)"
     ],
     "language": "python",
     "metadata": {},
     "outputs": []
    },
    {
     "cell_type": "heading",
     "level": 3,
     "metadata": {},
     "source": [
      "\"finish_\" to manage the process"
     ]
    },
    {
     "cell_type": "code",
     "collapsed": false,
     "input": [
      "slp(elevation='elevation', slope='slp',  aspect='asp', format='percent', overwrite=True, finish_=False)"
     ],
     "language": "python",
     "metadata": {},
     "outputs": []
    },
    {
     "cell_type": "code",
     "collapsed": false,
     "input": [
      "slp.popen.wait() # .kill()"
     ],
     "language": "python",
     "metadata": {},
     "outputs": []
    },
    {
     "cell_type": "code",
     "collapsed": false,
     "input": [
      "TODO = 'fare un decoratore che uccide il processo se impiega troppo'"
     ],
     "language": "python",
     "metadata": {},
     "outputs": []
    },
    {
     "cell_type": "heading",
     "level": 3,
     "metadata": {},
     "source": [
      "\"stdin_\", \"stdout_\", \"stderr_\""
     ]
    },
    {
     "cell_type": "code",
     "collapsed": false,
     "input": [
      "from subprocess import PIPE\n",
      "\n",
      "slp(elevation='elevation', slope='slp',  aspect='asp', format='percent', overwrite=True, stderr_=PIPE)"
     ],
     "language": "python",
     "metadata": {},
     "outputs": []
    },
    {
     "cell_type": "code",
     "collapsed": false,
     "input": [
      "print slp.stderr"
     ],
     "language": "python",
     "metadata": {},
     "outputs": []
    },
    {
     "cell_type": "code",
     "collapsed": false,
     "input": [
      "gmapset = g.mapset\n",
      "gmapset(mapset='_', flags='p', stdout_=PIPE)\n",
      "gmapset.stdout.strip()"
     ],
     "language": "python",
     "metadata": {},
     "outputs": []
    },
    {
     "cell_type": "heading",
     "level": 2,
     "metadata": {},
     "source": [
      "Summary"
     ]
    },
    {
     "cell_type": "markdown",
     "metadata": {},
     "source": [
      "We have seen:\n",
      "    * how we can replace bash script with python;\n",
      "    * how we can uopdate preaviews python script to use pygrass\n",
      "    * play with the grass modules as objects, changing only few parameters;\n",
      "    * give more power to the user with the special parameters \"*_\"."
     ]
    },
    {
     "cell_type": "heading",
     "level": 3,
     "metadata": {},
     "source": [
      "Exercise 2"
     ]
    },
    {
     "cell_type": "code",
     "collapsed": false,
     "input": [
      "%%bash \n",
      "g.region -p"
     ],
     "language": "python",
     "metadata": {},
     "outputs": [
      {
       "output_type": "stream",
       "stream": "stdout",
       "text": [
        "projection: 99 (Lambert Conformal Conic)\n",
        "zone:       0\n",
        "datum:      nad83\n",
        "ellipsoid:  a=6378137 es=0.006694380022900787\n",
        "north:      228500\n",
        "south:      215000\n",
        "west:       630000\n",
        "east:       645000\n",
        "nsres:      10\n",
        "ewres:      10\n",
        "rows:       1350\n",
        "cols:       1500\n",
        "cells:      2025000\n"
       ]
      }
     ],
     "prompt_number": 68
    },
    {
     "cell_type": "markdown",
     "metadata": {},
     "source": [
      "Read the output of g.region and return a dictionary"
     ]
    },
    {
     "cell_type": "code",
     "collapsed": true,
     "input": [
      "gregion = g.region\n",
      "\n",
      "def get_region():\n",
      "    gregion(flags='p', stdout_=PIPE)\n",
      "    reg = {}\n",
      "    for row in gregion.stdout.splitlines():\n",
      "        key, value = row.split(':')\n",
      "        reg[key.strip()] = value.strip()\n",
      "    return reg\n",
      "\n",
      "import pprint\n",
      "pp = pprint.PrettyPrinter()\n",
      "pp.pprint(get_region())"
     ],
     "language": "python",
     "metadata": {},
     "outputs": [
      {
       "output_type": "stream",
       "stream": "stdout",
       "text": [
        "{'cells': '2025000',\n",
        " 'cols': '1500',\n",
        " 'datum': 'nad83',\n",
        " 'east': '645000',\n",
        " 'ellipsoid': 'a=6378137 es=0.006694380022900787',\n",
        " 'ewres': '10',\n",
        " 'north': '228500',\n",
        " 'nsres': '10',\n",
        " 'projection': '99 (Lambert Conformal Conic)',\n",
        " 'rows': '1350',\n",
        " 'south': '215000',\n",
        " 'west': '630000',\n",
        " 'zone': '0'}\n"
       ]
      }
     ],
     "prompt_number": 80
    },
    {
     "cell_type": "code",
     "collapsed": false,
     "input": [
      "%timeit get_region()"
     ],
     "language": "python",
     "metadata": {},
     "outputs": [
      {
       "output_type": "stream",
       "stream": "stdout",
       "text": [
        "100 loops, best of 3: 19.7 ms per loop\n"
       ]
      }
     ],
     "prompt_number": 81
    },
    {
     "cell_type": "heading",
     "level": 2,
     "metadata": {},
     "source": [
      "More than modules"
     ]
    },
    {
     "cell_type": "markdown",
     "metadata": {},
     "source": [
      "pygrass allow user to use lower level functions, in a easier and fastest way. For example instead of wrap the output of the modules we can use the Region class to do the same:"
     ]
    },
    {
     "cell_type": "code",
     "collapsed": false,
     "input": [
      "from grass.pygrass.region import Region"
     ],
     "language": "python",
     "metadata": {},
     "outputs": [],
     "prompt_number": 1
    },
    {
     "cell_type": "code",
     "collapsed": false,
     "input": [
      "Region()"
     ],
     "language": "python",
     "metadata": {},
     "outputs": [
      {
       "output_type": "pyout",
       "prompt_number": 7,
       "text": [
        "Region(n=228500, s=215000, e=645000, w=630000, nsres=10, ewres=10)"
       ]
      }
     ],
     "prompt_number": 7
    },
    {
     "cell_type": "code",
     "collapsed": false,
     "input": [
      "Region().iteritems()"
     ],
     "language": "python",
     "metadata": {},
     "outputs": [
      {
       "output_type": "pyout",
       "prompt_number": 8,
       "text": [
        "[('projection', 99),\n",
        " ('zone', 0),\n",
        " ('north', 228500.0),\n",
        " ('south', 215000.0),\n",
        " ('west', 630000.0),\n",
        " ('east', 645000.0),\n",
        " ('top', 1.0),\n",
        " ('bottom', 0.0),\n",
        " ('nsres', 10.0),\n",
        " ('ewres', 10.0),\n",
        " ('tbres', 1.0),\n",
        " ('rows', 1350),\n",
        " ('cols', 1500),\n",
        " ('cells', 2025000)]"
       ]
      }
     ],
     "prompt_number": 8
    },
    {
     "cell_type": "code",
     "collapsed": false,
     "input": [
      "dict(Region().iteritems())"
     ],
     "language": "python",
     "metadata": {},
     "outputs": [
      {
       "output_type": "pyout",
       "prompt_number": 9,
       "text": [
        "{'bottom': 0.0,\n",
        " 'cells': 2025000,\n",
        " 'cols': 1500,\n",
        " 'east': 645000.0,\n",
        " 'ewres': 10.0,\n",
        " 'north': 228500.0,\n",
        " 'nsres': 10.0,\n",
        " 'projection': 99,\n",
        " 'rows': 1350,\n",
        " 'south': 215000.0,\n",
        " 'tbres': 1.0,\n",
        " 'top': 1.0,\n",
        " 'west': 630000.0,\n",
        " 'zone': 0}"
       ]
      }
     ],
     "prompt_number": 9
    },
    {
     "cell_type": "code",
     "collapsed": false,
     "input": [
      "%timeit dict(Region().iteritems())"
     ],
     "language": "python",
     "metadata": {},
     "outputs": [
      {
       "output_type": "stream",
       "stream": "stdout",
       "text": [
        "100000 loops, best of 3: 13.2 us per loop\n"
       ]
      }
     ],
     "prompt_number": 10
    },
    {
     "cell_type": "markdown",
     "metadata": {},
     "source": [
      "How fast is it?"
     ]
    },
    {
     "cell_type": "code",
     "collapsed": false,
     "input": [
      "19.7 * 1000 / 13.2"
     ],
     "language": "python",
     "metadata": {},
     "outputs": [
      {
       "output_type": "pyout",
       "prompt_number": 11,
       "text": [
        "1492.4242424242425"
       ]
      }
     ],
     "prompt_number": 11
    }
   ],
   "metadata": {}
  }
 ]
}