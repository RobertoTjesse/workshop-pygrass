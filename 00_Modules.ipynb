{
 "cells": [
  {
   "cell_type": "markdown",
   "metadata": {},
   "source": [
    "# How to start"
   ]
  },
  {
   "cell_type": "markdown",
   "metadata": {},
   "source": [
    "As first step, start grass7 with:\n",
    "    \n",
    "    $ grass70 gis/nc_basic/user1\n",
    "    \n",
    "Then from the GRASS shell, change the directory, with:\n",
    "    \n",
    "    > cd doc/pygrass\n",
    "    \n",
    "and then run:\n",
    "    \n",
    "    > ipython notebook --pylab inline"
   ]
  },
  {
   "cell_type": "markdown",
   "metadata": {},
   "source": [
    "# Modules"
   ]
  },
  {
   "cell_type": "markdown",
   "metadata": {},
   "source": [
    "The Modules module permits to work directly with the GRASS GIS module"
   ]
  },
  {
   "cell_type": "code",
   "execution_count": null,
   "metadata": {
    "collapsed": false
   },
   "outputs": [],
   "source": [
    "from __future__ import print_function\n",
    "from IPython.display import Image\n",
    "from pprint import pprint\n",
    "from subprocess import PIPE\n",
    "\n",
    "import numpy as np\n",
    "\n",
    "from show import show\n"
   ]
  },
  {
   "cell_type": "markdown",
   "metadata": {},
   "source": [
    "## Replace BASH"
   ]
  },
  {
   "cell_type": "markdown",
   "metadata": {},
   "source": [
    "GRASS6 and GRASS7, the traditional way for scripting."
   ]
  },
  {
   "cell_type": "markdown",
   "metadata": {},
   "source": [
    "Import grass script module, which has some useful functions:"
   ]
  },
  {
   "cell_type": "code",
   "execution_count": null,
   "metadata": {
    "collapsed": false
   },
   "outputs": [],
   "source": [
    "from grass import script\n",
    "import subprocess"
   ]
  },
  {
   "cell_type": "markdown",
   "metadata": {},
   "source": [
    "Let's have a look which function containing the word command are available, with:"
   ]
  },
  {
   "cell_type": "code",
   "execution_count": null,
   "metadata": {
    "collapsed": false
   },
   "outputs": [],
   "source": [
    "from grass.pygrass.utils import looking\n",
    "\n",
    "looking(script, '*command*')"
   ]
  },
  {
   "cell_type": "code",
   "execution_count": null,
   "metadata": {
    "collapsed": false
   },
   "outputs": [],
   "source": [
    "script.list_pairs(type='raster')"
   ]
  },
  {
   "cell_type": "markdown",
   "metadata": {},
   "source": [
    "### Start and wait until the end of the process"
   ]
  },
  {
   "cell_type": "code",
   "execution_count": null,
   "metadata": {
    "collapsed": false
   },
   "outputs": [],
   "source": [
    "script.run_command('r.info', map='elevation')"
   ]
  },
  {
   "cell_type": "markdown",
   "metadata": {},
   "source": [
    "### Parse the kwargs and return a list of parameters"
   ]
  },
  {
   "cell_type": "code",
   "execution_count": null,
   "metadata": {
    "collapsed": false
   },
   "outputs": [],
   "source": [
    "script.make_command('r.info', map='elevation', flags='r')"
   ]
  },
  {
   "cell_type": "markdown",
   "metadata": {},
   "source": [
    "### Start and return a `Popen` object"
   ]
  },
  {
   "cell_type": "code",
   "execution_count": null,
   "metadata": {
    "collapsed": false
   },
   "outputs": [],
   "source": [
    "script.start_command('r.info', map='elevation')"
   ]
  },
  {
   "cell_type": "code",
   "execution_count": null,
   "metadata": {
    "collapsed": false
   },
   "outputs": [],
   "source": [
    "process = script.start_command('r.info', map='elevation', flags='r', stdout=PIPE)"
   ]
  },
  {
   "cell_type": "code",
   "execution_count": null,
   "metadata": {
    "collapsed": false
   },
   "outputs": [],
   "source": [
    "stdout = process.stdout"
   ]
  },
  {
   "cell_type": "code",
   "execution_count": null,
   "metadata": {
    "collapsed": false
   },
   "outputs": [],
   "source": [
    "print([line.strip().split(b'=') for line in stdout])"
   ]
  },
  {
   "cell_type": "markdown",
   "metadata": {},
   "source": [
    "### Parse the output of a command"
   ]
  },
  {
   "cell_type": "code",
   "execution_count": null,
   "metadata": {
    "collapsed": false
   },
   "outputs": [],
   "source": [
    "script.parse_command('r.info', map='elevation', flags='g', delimiter='=')"
   ]
  },
  {
   "cell_type": "code",
   "execution_count": null,
   "metadata": {
    "collapsed": false
   },
   "outputs": [],
   "source": [
    "script.parse_command('g.region', flags='p', delimiter=':')"
   ]
  },
  {
   "cell_type": "markdown",
   "metadata": {},
   "source": [
    "### Catch the command output"
   ]
  },
  {
   "cell_type": "code",
   "execution_count": null,
   "metadata": {
    "collapsed": false
   },
   "outputs": [],
   "source": [
    "region = script.pipe_command('r.info', map='elevation', flags='r')\n",
    "region"
   ]
  },
  {
   "cell_type": "code",
   "execution_count": null,
   "metadata": {
    "collapsed": false
   },
   "outputs": [],
   "source": [
    "stdout = ''.join(line for line in region.stdout)\n",
    "print(stdout)"
   ]
  },
  {
   "cell_type": "markdown",
   "metadata": {},
   "source": [
    "### Catch and return the stdout"
   ]
  },
  {
   "cell_type": "code",
   "execution_count": null,
   "metadata": {
    "collapsed": false
   },
   "outputs": [],
   "source": [
    "stdout = script.read_command('r.info', map='elevation', flags='r')\n",
    "print(stdout)"
   ]
  },
  {
   "cell_type": "code",
   "execution_count": null,
   "metadata": {
    "collapsed": false,
    "scrolled": true
   },
   "outputs": [],
   "source": [
    "mrange = dict([line.split(b'=') for line in stdout.split(b'\\n') if line != b''])\n",
    "for k in mrange:\n",
    "    mrange[k] = float(mrange[k])\n",
    "mrange"
   ]
  },
  {
   "cell_type": "markdown",
   "metadata": {},
   "source": [
    "### Use the pipe as input for another command"
   ]
  },
  {
   "cell_type": "markdown",
   "metadata": {},
   "source": [
    "Write the rules that we want to use for the reclassification:"
   ]
  },
  {
   "cell_type": "code",
   "execution_count": null,
   "metadata": {
    "collapsed": false
   },
   "outputs": [],
   "source": [
    "keys = ['low', 'medium low', 'medium', 'medium high', 'high']\n",
    "vals = np.linspace(mrange[b'min']-1, mrange[b'max']+1, num=len(keys)+1, endpoint=True)\n",
    "\n",
    "rvals = [(int(vals[i-1])+1, int(vals[i]), i, keys[i-1]) for i in range(1, len(vals))]\n",
    "rules = '\\n'.join(['%3d thru %3d = %2d %s' % v for v in rvals])\n",
    "print(rules)"
   ]
  },
  {
   "cell_type": "markdown",
   "metadata": {},
   "source": [
    "Now we can pass as input for the r.reclass the rules using the function `write_command`:"
   ]
  },
  {
   "cell_type": "code",
   "execution_count": null,
   "metadata": {
    "collapsed": false
   },
   "outputs": [],
   "source": [
    "script.write_command('r.reclass', input='elevation', output='elev', rules='-', overwrite=True, stdin=rules.encode())"
   ]
  },
  {
   "cell_type": "markdown",
   "metadata": {},
   "source": [
    "### Display the map inside the ipython notebook"
   ]
  },
  {
   "cell_type": "markdown",
   "metadata": {},
   "source": [
    "Start a new virtual monitor that generate a file: `view.png` that we can display inside the ipython notebook."
   ]
  },
  {
   "cell_type": "code",
   "execution_count": null,
   "metadata": {
    "collapsed": false
   },
   "outputs": [],
   "source": [
    "script.run_command('d.mon', start='png', output='view.png', overwrite=True)"
   ]
  },
  {
   "cell_type": "code",
   "execution_count": null,
   "metadata": {
    "collapsed": false
   },
   "outputs": [],
   "source": [
    "script.run_command('d.rast', map='elevation')\n",
    "Image('view.png')"
   ]
  },
  {
   "cell_type": "code",
   "execution_count": null,
   "metadata": {
    "collapsed": false
   },
   "outputs": [],
   "source": [
    "script.run_command('d.rast', map='elev')\n",
    "Image('view.png')"
   ]
  },
  {
   "cell_type": "code",
   "execution_count": null,
   "metadata": {
    "collapsed": false
   },
   "outputs": [],
   "source": [
    "script.run_command('d.mon', stop='png')"
   ]
  },
  {
   "cell_type": "markdown",
   "metadata": {},
   "source": [
    "## Using the pygrass module interface"
   ]
  },
  {
   "cell_type": "markdown",
   "metadata": {},
   "source": [
    "User who just wants to replace BASH with python has to import modules in the following manner:"
   ]
  },
  {
   "cell_type": "code",
   "execution_count": null,
   "metadata": {
    "collapsed": false
   },
   "outputs": [],
   "source": [
    "from grass.pygrass.modules.shortcuts import raster as r, vector as v, general as g, display as d\n",
    "from grass.pygrass.modules import Module"
   ]
  },
  {
   "cell_type": "markdown",
   "metadata": {},
   "source": [
    "And then call the grass modules"
   ]
  },
  {
   "cell_type": "code",
   "execution_count": null,
   "metadata": {
    "collapsed": false
   },
   "outputs": [],
   "source": [
    "g.region(raster='elevation', flags='p')"
   ]
  },
  {
   "cell_type": "code",
   "execution_count": null,
   "metadata": {
    "collapsed": false
   },
   "outputs": [],
   "source": [
    "print(g.region(flags='p', stdout_=PIPE).outputs.stdout.decode())"
   ]
  },
  {
   "cell_type": "markdown",
   "metadata": {},
   "source": [
    "If the name of the grass module contains \".\" you should replace it with \"_\". See the example bellow:"
   ]
  },
  {
   "cell_type": "code",
   "execution_count": null,
   "metadata": {
    "collapsed": false
   },
   "outputs": [],
   "source": [
    "r.slope_aspect(elevation='elevation', slope='slope', aspect='aspect', overwrite=True)\n",
    "r.mapcalc(\"slope_gt_10 = if(slope > 10, slope, null())\", overwrite=True)\n",
    "print(r.info(map='slope_gt_10', flags='r', stdout_=PIPE).outputs.stdout.decode())"
   ]
  },
  {
   "cell_type": "code",
   "execution_count": null,
   "metadata": {
    "collapsed": false
   },
   "outputs": [],
   "source": [
    "show('slope_gt_10', flags='n')"
   ]
  },
  {
   "cell_type": "code",
   "execution_count": null,
   "metadata": {
    "collapsed": false
   },
   "outputs": [],
   "source": [
    "show('slope')"
   ]
  },
  {
   "cell_type": "markdown",
   "metadata": {},
   "source": [
    "Some small tips of the new interface in python/ipython:\n",
    "\n",
    "* Tab inside brackets gives the help of the command;\n",
    "* or using:"
   ]
  },
  {
   "cell_type": "code",
   "execution_count": null,
   "metadata": {
    "collapsed": false
   },
   "outputs": [],
   "source": [
    "r.slope_aspect?"
   ]
  },
  {
   "cell_type": "markdown",
   "metadata": {},
   "source": [
    "Do something with the vectors:"
   ]
  },
  {
   "cell_type": "code",
   "execution_count": null,
   "metadata": {
    "collapsed": false
   },
   "outputs": [],
   "source": [
    "script.list_pairs(type='vect')"
   ]
  },
  {
   "cell_type": "code",
   "execution_count": null,
   "metadata": {
    "collapsed": false
   },
   "outputs": [],
   "source": [
    "v.to_rast(input='hospitals', output='hospitals', type=\"point\", use='cat', overwrite=True, quiet=True)"
   ]
  },
  {
   "cell_type": "code",
   "execution_count": null,
   "metadata": {
    "collapsed": false
   },
   "outputs": [],
   "source": [
    "script.list_pairs(type='rast')"
   ]
  },
  {
   "cell_type": "markdown",
   "metadata": {},
   "source": [
    "## Backwards compatibility"
   ]
  },
  {
   "cell_type": "markdown",
   "metadata": {},
   "source": [
    "If you have a python script and want to convert it to use the new python interface, you just need to transform:"
   ]
  },
  {
   "cell_type": "code",
   "execution_count": null,
   "metadata": {
    "collapsed": false
   },
   "outputs": [],
   "source": [
    "#from grass.script.core import run_command\n",
    "from grass.pygrass.modules import Module as run_command\n",
    "\n",
    "run_command(\"r.info\", map='elevation')\n",
    "#etc..."
   ]
  },
  {
   "cell_type": "markdown",
   "metadata": {},
   "source": [
    "## Module as object"
   ]
  },
  {
   "cell_type": "markdown",
   "metadata": {},
   "source": [
    "Import the Module class, and instantiate the command, the name of the GRASS module is required."
   ]
  },
  {
   "cell_type": "code",
   "execution_count": null,
   "metadata": {
    "collapsed": false
   },
   "outputs": [],
   "source": [
    "from grass.pygrass.modules import Module\n",
    "\n",
    "slp = Module(\"r.slope.aspect\")"
   ]
  },
  {
   "cell_type": "markdown",
   "metadata": {},
   "source": [
    "### Attributes"
   ]
  },
  {
   "cell_type": "code",
   "execution_count": null,
   "metadata": {
    "collapsed": false
   },
   "outputs": [],
   "source": [
    "slp.name"
   ]
  },
  {
   "cell_type": "code",
   "execution_count": null,
   "metadata": {
    "collapsed": false
   },
   "outputs": [],
   "source": [
    "slp.description"
   ]
  },
  {
   "cell_type": "code",
   "execution_count": null,
   "metadata": {
    "collapsed": false
   },
   "outputs": [],
   "source": [
    "slp.keywords"
   ]
  },
  {
   "cell_type": "code",
   "execution_count": null,
   "metadata": {
    "collapsed": false
   },
   "outputs": [],
   "source": [
    "slp.label"
   ]
  },
  {
   "cell_type": "code",
   "execution_count": null,
   "metadata": {
    "collapsed": false
   },
   "outputs": [],
   "source": [
    "# get the documentation of the module\n",
    "slp?"
   ]
  },
  {
   "cell_type": "markdown",
   "metadata": {},
   "source": [
    "The instantiated module splits the parameters in:\n",
    "\n",
    "* inputs\n",
    "* outputs\n",
    "\n",
    "both parameters are an [OrderedDict](http://docs.python.org/2/library/collections.html#collections.OrderedDict) python object. Additionally, the 'required' attribute returns a list of the parameters that are required.\n",
    "\n"
   ]
  },
  {
   "cell_type": "code",
   "execution_count": null,
   "metadata": {
    "collapsed": false
   },
   "outputs": [],
   "source": [
    "pprint(dict(slp.inputs))"
   ]
  },
  {
   "cell_type": "code",
   "execution_count": null,
   "metadata": {
    "collapsed": false
   },
   "outputs": [],
   "source": [
    "pprint(dict(slp.outputs))"
   ]
  },
  {
   "cell_type": "code",
   "execution_count": null,
   "metadata": {
    "collapsed": false
   },
   "outputs": [],
   "source": [
    "slp.required"
   ]
  },
  {
   "cell_type": "code",
   "execution_count": null,
   "metadata": {
    "collapsed": false
   },
   "outputs": [],
   "source": [
    "slp.inputs['elevation']"
   ]
  },
  {
   "cell_type": "code",
   "execution_count": null,
   "metadata": {
    "collapsed": false
   },
   "outputs": [],
   "source": [
    "slp.inputs.elevation = \"elevation\""
   ]
  },
  {
   "cell_type": "code",
   "execution_count": null,
   "metadata": {
    "collapsed": false
   },
   "outputs": [],
   "source": [
    "slp.inputs.elevation"
   ]
  },
  {
   "cell_type": "code",
   "execution_count": null,
   "metadata": {
    "collapsed": false
   },
   "outputs": [],
   "source": [
    "slp.inputs[\"format\"]"
   ]
  },
  {
   "cell_type": "code",
   "execution_count": null,
   "metadata": {
    "collapsed": false
   },
   "outputs": [],
   "source": [
    "slp.inputs.format = 'percents'"
   ]
  },
  {
   "cell_type": "code",
   "execution_count": null,
   "metadata": {
    "collapsed": false
   },
   "outputs": [],
   "source": [
    "slp.inputs.format = 'percent'"
   ]
  },
  {
   "cell_type": "code",
   "execution_count": null,
   "metadata": {
    "collapsed": false
   },
   "outputs": [],
   "source": [
    "slp.outputs.slope = 'slope'"
   ]
  },
  {
   "cell_type": "code",
   "execution_count": null,
   "metadata": {
    "collapsed": false
   },
   "outputs": [],
   "source": [
    "slp.flags.g = True"
   ]
  },
  {
   "cell_type": "code",
   "execution_count": null,
   "metadata": {
    "collapsed": false
   },
   "outputs": [],
   "source": [
    "slp.flags.a = True"
   ]
  },
  {
   "cell_type": "code",
   "execution_count": null,
   "metadata": {
    "collapsed": false
   },
   "outputs": [],
   "source": [
    "print(slp.flags.overwrite) # --overwrite, --verbose, --quite"
   ]
  },
  {
   "cell_type": "code",
   "execution_count": null,
   "metadata": {
    "collapsed": false
   },
   "outputs": [],
   "source": [
    "slp.flags.overwrite = True\n",
    "\n",
    "# run the module\n",
    "slp.run()"
   ]
  },
  {
   "cell_type": "markdown",
   "metadata": {},
   "source": [
    "### Methods"
   ]
  },
  {
   "cell_type": "code",
   "execution_count": null,
   "metadata": {
    "collapsed": false
   },
   "outputs": [],
   "source": [
    "print(slp)  # __str__"
   ]
  },
  {
   "cell_type": "code",
   "execution_count": null,
   "metadata": {
    "collapsed": false
   },
   "outputs": [],
   "source": [
    "repr(slp)  # __repr__"
   ]
  },
  {
   "cell_type": "code",
   "execution_count": null,
   "metadata": {
    "collapsed": false
   },
   "outputs": [],
   "source": [
    "from grass.pygrass.modules import Module\n",
    "\n",
    "slp = Module(\"r.slope.aspect\")\n",
    "\n",
    "slp(elevation='elevation', \n",
    "    slope='slp',  aspect='asp', \n",
    "    format='percent', overwrite=True, \n",
    "    verbose=False, flags='a', run_=False)\n",
    "\n",
    "print(slp.get_bash())\n",
    "print(slp.get_python())"
   ]
  },
  {
   "cell_type": "markdown",
   "metadata": {},
   "source": [
    "## Run as a function"
   ]
  },
  {
   "cell_type": "code",
   "execution_count": null,
   "metadata": {
    "collapsed": false
   },
   "outputs": [],
   "source": [
    "slp(elevation='elevation', slope='slp',  aspect='asp', format='percent', overwrite=True)"
   ]
  },
  {
   "cell_type": "markdown",
   "metadata": {},
   "source": [
    "## Special parameters"
   ]
  },
  {
   "cell_type": "markdown",
   "metadata": {},
   "source": [
    "### \"run_\" to run later"
   ]
  },
  {
   "cell_type": "code",
   "execution_count": null,
   "metadata": {
    "collapsed": false
   },
   "outputs": [],
   "source": [
    "slp(elevation='elevation', slope='slp',  aspect='asp', format='percent', overwrite=True, run_=False)"
   ]
  },
  {
   "cell_type": "markdown",
   "metadata": {},
   "source": [
    "### \"finish_\" to manage the process"
   ]
  },
  {
   "cell_type": "code",
   "execution_count": null,
   "metadata": {
    "collapsed": false
   },
   "outputs": [],
   "source": [
    "slp(elevation='elevation', slope='slp',  aspect='asp', format='percent', overwrite=True, run_=True, finish_=False)"
   ]
  },
  {
   "cell_type": "code",
   "execution_count": null,
   "metadata": {
    "collapsed": false
   },
   "outputs": [],
   "source": [
    "slp.popen.wait() # .kill()"
   ]
  },
  {
   "cell_type": "markdown",
   "metadata": {},
   "source": [
    "### `stdin_`, `stdout_`, `stderr_`"
   ]
  },
  {
   "cell_type": "code",
   "execution_count": null,
   "metadata": {
    "collapsed": false
   },
   "outputs": [],
   "source": [
    "slp(elevation='elevation', slope='slp', aspect='asp', \n",
    "    format='percent', overwrite=True, stderr_=PIPE, run_=True)"
   ]
  },
  {
   "cell_type": "code",
   "execution_count": null,
   "metadata": {
    "collapsed": false
   },
   "outputs": [],
   "source": [
    "print(slp.outputs.stderr)"
   ]
  },
  {
   "cell_type": "code",
   "execution_count": null,
   "metadata": {
    "collapsed": false
   },
   "outputs": [],
   "source": [
    "gmapset = g.mapset(mapset='_', flags='p', stdout_=PIPE)\n",
    "gmapset.outputs.stdout.strip()"
   ]
  },
  {
   "cell_type": "markdown",
   "metadata": {},
   "source": [
    "# Summary"
   ]
  },
  {
   "cell_type": "markdown",
   "metadata": {},
   "source": [
    "We have seen:\n",
    "\n",
    "* how we can replace Bash script with Python;\n",
    "* how we can update existing Python script to use pygrass;\n",
    "* play with the grass modules as objects, changing only few parameters;\n",
    "* give more power to the user with the special parameters \"*_\"."
   ]
  },
  {
   "cell_type": "markdown",
   "metadata": {},
   "source": [
    "# Exercise"
   ]
  },
  {
   "cell_type": "markdown",
   "metadata": {},
   "source": [
    "## Time for coding!"
   ]
  },
  {
   "cell_type": "markdown",
   "metadata": {},
   "source": [
    "Transform the following Bash script:"
   ]
  },
  {
   "cell_type": "raw",
   "metadata": {},
   "source": [
    "#!/bin/bash\n",
    "#\n",
    "# Compute the distance from a road\n",
    "#\n",
    "\n",
    "# set the region to elevation map:\n",
    "g.region rast=elevation\n",
    "\n",
    "# convert street vector to raster\n",
    "v.to.rast input=streets type=line output=streets use=cat --overwrite\n",
    "\n",
    "# create a unitary map of the cost\n",
    "r.mapcalc expression=\"dist_cost=10./cos(slope)\" --overwrite\n",
    "\n",
    "# compute the distance\n",
    "r.cost input=dist_cost output=distance_from_streets outdir=direction start_rast=streets -k --overwrite \n"
   ]
  },
  {
   "cell_type": "markdown",
   "metadata": {},
   "source": [
    "into a Python one:"
   ]
  },
  {
   "cell_type": "code",
   "execution_count": null,
   "metadata": {
    "collapsed": false
   },
   "outputs": [],
   "source": []
  },
  {
   "cell_type": "markdown",
   "metadata": {},
   "source": [
    "## Time for coding!"
   ]
  },
  {
   "cell_type": "code",
   "execution_count": null,
   "metadata": {
    "collapsed": false
   },
   "outputs": [],
   "source": [
    "!g.region -p"
   ]
  },
  {
   "cell_type": "markdown",
   "metadata": {},
   "source": [
    "Read the output of g.region and return a dictionary."
   ]
  },
  {
   "cell_type": "code",
   "execution_count": null,
   "metadata": {
    "collapsed": false
   },
   "outputs": [],
   "source": []
  },
  {
   "cell_type": "markdown",
   "metadata": {},
   "source": [
    "# Create a GRASS module"
   ]
  },
  {
   "cell_type": "code",
   "execution_count": null,
   "metadata": {
    "collapsed": false
   },
   "outputs": [],
   "source": [
    "%%file mygrassmodule.py\n",
    "#!/usr/bin/env python\n",
    "# -- coding: utf-8 --\n",
    "#\n",
    "############################################################################\n",
    "#\n",
    "# MODULE:\t    <name of your module>\n",
    "#\n",
    "# AUTHOR(S):    <your name>\n",
    "#\n",
    "# COPYRIGHT:\t(C) 2013 by the GRASS Development Team\n",
    "#\n",
    "#\t\tThis program is free software under the GNU General Public\n",
    "#\t\tLicense (>=v2). Read the file COPYING that comes with GRASS\n",
    "#\t\tfor details.\n",
    "#\n",
    "#############################################################################\n",
    "\n",
    "##-----------------------\n",
    "## DESCRIPTION\n",
    "##-----------------------\n",
    "#%Module\n",
    "#%  description: <description>\n",
    "#%  keywords: <keyword 1>\n",
    "#%  keywords: <keyword 1>\n",
    "#%  keywords: <keyword 1>\n",
    "#%  overwrite: yes\n",
    "#%End\n",
    "\n",
    "##-----------------------\n",
    "## VECTOR INPUT\n",
    "##-----------------------\n",
    "#%option G_OPT_V_MAP\n",
    "#%  key: key0\n",
    "#%  description: <parameter description>\n",
    "#%  required: yes\n",
    "#%end\n",
    "\n",
    "##-----------------------\n",
    "## MULTI RASTER INPUT\n",
    "##-----------------------\n",
    "#%option G_OPT_R_INPUTS\n",
    "#%  key: key1\n",
    "#%  description: <parameter description>\n",
    "#%  multiple: yes\n",
    "#%  required: no\n",
    "#%end\n",
    "\n",
    "##-----------------------\n",
    "## STRING INPUT\n",
    "##-----------------------\n",
    "#%option\n",
    "#%  key: key2\n",
    "#%  description: <parameter description>\n",
    "#%  type: string\n",
    "#%  multiple: yes\n",
    "#%  required: no\n",
    "#%end\n",
    "from pprint import pprint\n",
    "from grass.script import parser\n",
    "\n",
    "def main(opts, flgs):\n",
    "    print('OPTIONS:')\n",
    "    pprint(opts)\n",
    "    print('FLAGS:')\n",
    "    pprint(flgs)\n",
    "\n",
    "if __name__ == \"__main__\":\n",
    "    opts, flgs = parser()\n",
    "    main(opts, flgs)\n",
    "\n"
   ]
  },
  {
   "cell_type": "code",
   "execution_count": null,
   "metadata": {
    "collapsed": false
   },
   "outputs": [],
   "source": [
    "!python2 mygrassmodule.py --h"
   ]
  },
  {
   "cell_type": "code",
   "execution_count": null,
   "metadata": {
    "collapsed": false
   },
   "outputs": [],
   "source": [
    "!python2 mygrassmodule.py key0=pippo key1=pluto,topolino key2=minni,clarabella"
   ]
  },
  {
   "cell_type": "code",
   "execution_count": null,
   "metadata": {
    "collapsed": false
   },
   "outputs": [],
   "source": []
  }
 ],
 "metadata": {
  "kernelspec": {
   "display_name": "Python 3",
   "language": "python",
   "name": "python3"
  },
  "language_info": {
   "codemirror_mode": {
    "name": "ipython",
    "version": 3
   },
   "file_extension": ".py",
   "mimetype": "text/x-python",
   "name": "python",
   "nbconvert_exporter": "python",
   "pygments_lexer": "ipython3",
   "version": "3.5.1"
  }
 },
 "nbformat": 4,
 "nbformat_minor": 0
}
