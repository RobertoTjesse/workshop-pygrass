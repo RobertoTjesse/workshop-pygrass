{
 "metadata": {
  "name": "00_Modules"
 },
 "nbformat": 3,
 "nbformat_minor": 0,
 "worksheets": [
  {
   "cells": [
    {
     "cell_type": "heading",
     "level": 1,
     "metadata": {},
     "source": [
      "How to start"
     ]
    },
    {
     "cell_type": "markdown",
     "metadata": {},
     "source": [
      "As first step run start grass7 with:\n",
      "    \n",
      "    $ grass70 gis/nc_basic/user1\n",
      "    \n",
      "Then from the GRASS shell, change the directory, with:\n",
      "    \n",
      "    > cd doc/pygrass\n",
      "    \n",
      "and then run:\n",
      "    \n",
      "    > ipython notebbok --pylab inline"
     ]
    },
    {
     "cell_type": "heading",
     "level": 1,
     "metadata": {},
     "source": [
      "Modules"
     ]
    },
    {
     "cell_type": "heading",
     "level": 2,
     "metadata": {},
     "source": [
      "Replace BASH"
     ]
    },
    {
     "cell_type": "markdown",
     "metadata": {},
     "source": [
      "Import grass script core module, that have some useful functions:"
     ]
    },
    {
     "cell_type": "code",
     "collapsed": false,
     "input": [
      "from grass.script import core as gcore"
     ],
     "language": "python",
     "metadata": {},
     "outputs": []
    },
    {
     "cell_type": "markdown",
     "metadata": {},
     "source": [
      "User that want just to replace BASH with python have to import modules in the following maner:"
     ]
    },
    {
     "cell_type": "code",
     "collapsed": false,
     "input": [
      "from IPython.core.display import Image\n",
      "\n",
      "from grass.pygrass.modules import raster as r\n",
      "from grass.pygrass.modules import vector as v\n",
      "from grass.pygrass.modules import general as g"
     ],
     "language": "python",
     "metadata": {},
     "outputs": []
    },
    {
     "cell_type": "markdown",
     "metadata": {},
     "source": [
      "And then call the grass modules, if the name of the grass module contains \".\" you should replace it with \"_\". See the example bellow:"
     ]
    },
    {
     "cell_type": "code",
     "collapsed": false,
     "input": [
      "gcore.list_pairs(type='rast')"
     ],
     "language": "python",
     "metadata": {},
     "outputs": []
    },
    {
     "cell_type": "code",
     "collapsed": false,
     "input": [
      "g.region(rast='elevation', flags='p')"
     ],
     "language": "python",
     "metadata": {},
     "outputs": []
    },
    {
     "cell_type": "code",
     "collapsed": false,
     "input": [
      "r.info(map='elevation')\n",
      "r.slope_aspect(elevation='elevation', slope='slope', aspect='aspect', overwrite=True)\n",
      "r.mapcalc(\"slope_gt100 = if(slope > 100, slope)\", overwrite=True)\n",
      "r.info(map='slope_gt100')"
     ],
     "language": "python",
     "metadata": {},
     "outputs": []
    },
    {
     "cell_type": "code",
     "collapsed": false,
     "input": [
      "def show(mapname):\n",
      "    imgname = mapname + '.png'\n",
      "    r.out_png(input=mapname, output=imgname, overwrite=True)\n",
      "    return Image(filename=imgname)"
     ],
     "language": "python",
     "metadata": {},
     "outputs": []
    },
    {
     "cell_type": "code",
     "collapsed": false,
     "input": [
      "show('aspect')"
     ],
     "language": "python",
     "metadata": {},
     "outputs": []
    },
    {
     "cell_type": "markdown",
     "metadata": {},
     "source": [
      "Some small tips of the new interface in python/ipython:\n",
      "\n",
      "* use the Tab inside breaks give the help of the command;\n",
      "* or using:"
     ]
    },
    {
     "cell_type": "code",
     "collapsed": false,
     "input": [
      "r.slope_aspect?"
     ],
     "language": "python",
     "metadata": {},
     "outputs": []
    },
    {
     "cell_type": "markdown",
     "metadata": {},
     "source": [
      "Do something with the vectors:"
     ]
    },
    {
     "cell_type": "code",
     "collapsed": false,
     "input": [
      "gcore.list_pairs(type='vect')"
     ],
     "language": "python",
     "metadata": {},
     "outputs": []
    },
    {
     "cell_type": "code",
     "collapsed": false,
     "input": [
      "v.to_rast(input='hospitals', output='hospitals', type=\"point\", use='cat', overwrite=True, quiet=True)"
     ],
     "language": "python",
     "metadata": {},
     "outputs": []
    },
    {
     "cell_type": "code",
     "collapsed": false,
     "input": [
      "gcore.list_pairs(type='rast')"
     ],
     "language": "python",
     "metadata": {},
     "outputs": []
    },
    {
     "cell_type": "heading",
     "level": 3,
     "metadata": {},
     "source": [
      "Exercise 1"
     ]
    },
    {
     "cell_type": "markdown",
     "metadata": {},
     "source": [
      "Transform the following bash script:"
     ]
    },
    {
     "cell_type": "code",
     "collapsed": false,
     "input": [
      "%%bash\n",
      "#\n",
      "# Compute the distance from a road\n",
      "#\n",
      "\n",
      "# set the region to elevation map:\n",
      "g.region rast=elevation\n",
      "\n",
      "# convert street vector to raster\n",
      "v.to.rast input=streets type=line output=streets use=cat --overwrite\n",
      "\n",
      "# create a unitary map of the cost\n",
      "r.mapcalc expression=\"dist_cost=10./cos(slope)\" --overwrite\n",
      "\n",
      "# compute the distance\n",
      "r.cost input=dist_cost output=distance_from_streets outdir=direction start_rast=streets -k --overwrite \n"
     ],
     "language": "python",
     "metadata": {},
     "outputs": []
    },
    {
     "cell_type": "markdown",
     "metadata": {},
     "source": [
      "into a python one:"
     ]
    },
    {
     "cell_type": "code",
     "collapsed": false,
     "input": [],
     "language": "python",
     "metadata": {},
     "outputs": []
    },
    {
     "cell_type": "heading",
     "level": 2,
     "metadata": {},
     "source": [
      "Backport compatibility"
     ]
    },
    {
     "cell_type": "markdown",
     "metadata": {},
     "source": [
      "If you have a python script and want to convert it to use the new python interface, you just neet to transform:"
     ]
    },
    {
     "cell_type": "code",
     "collapsed": false,
     "input": [
      "#from grass.script.core import run_command\n",
      "from grass.pygrass.modules import Module as run_command\n",
      "\n",
      "run_command(\"r.info\", map='elevation')\n",
      "#etc..."
     ],
     "language": "python",
     "metadata": {},
     "outputs": []
    },
    {
     "cell_type": "heading",
     "level": 2,
     "metadata": {},
     "source": [
      "Module as object"
     ]
    },
    {
     "cell_type": "markdown",
     "metadata": {},
     "source": [
      "Import the Module class, and instantiate the command, the name of the GRASS module is required."
     ]
    },
    {
     "cell_type": "code",
     "collapsed": false,
     "input": [
      "from grass.pygrass.modules import Module\n",
      "\n",
      "slp = Module(\"r.slope.aspect\")"
     ],
     "language": "python",
     "metadata": {},
     "outputs": []
    },
    {
     "cell_type": "heading",
     "level": 3,
     "metadata": {},
     "source": [
      "Attributes"
     ]
    },
    {
     "cell_type": "code",
     "collapsed": false,
     "input": [
      "slp.name"
     ],
     "language": "python",
     "metadata": {},
     "outputs": []
    },
    {
     "cell_type": "code",
     "collapsed": false,
     "input": [
      "slp.description"
     ],
     "language": "python",
     "metadata": {},
     "outputs": []
    },
    {
     "cell_type": "code",
     "collapsed": false,
     "input": [
      "slp.keywords"
     ],
     "language": "python",
     "metadata": {},
     "outputs": []
    },
    {
     "cell_type": "code",
     "collapsed": false,
     "input": [
      "slp.label"
     ],
     "language": "python",
     "metadata": {},
     "outputs": []
    },
    {
     "cell_type": "code",
     "collapsed": false,
     "input": [
      "# get the documentation of the module\n",
      "slp?"
     ],
     "language": "python",
     "metadata": {},
     "outputs": []
    },
    {
     "cell_type": "markdown",
     "metadata": {},
     "source": [
      "The instantiate module split the parameters in:\n",
      "\n",
      "* inputs\n",
      "* outputs\n",
      "\n",
      "both parameters are an [OrderedDict](http://docs.python.org/2/library/collections.html#collections.OrderedDict) python object. Rather tha the required attribute return a list of the parameters that are required.\n",
      "\n"
     ]
    },
    {
     "cell_type": "code",
     "collapsed": false,
     "input": [
      "slp.inputs"
     ],
     "language": "python",
     "metadata": {},
     "outputs": []
    },
    {
     "cell_type": "code",
     "collapsed": false,
     "input": [
      "slp.outputs"
     ],
     "language": "python",
     "metadata": {},
     "outputs": []
    },
    {
     "cell_type": "code",
     "collapsed": false,
     "input": [
      "slp.required"
     ],
     "language": "python",
     "metadata": {},
     "outputs": []
    },
    {
     "cell_type": "code",
     "collapsed": false,
     "input": [
      "slp.inputs['elevation']"
     ],
     "language": "python",
     "metadata": {},
     "outputs": []
    },
    {
     "cell_type": "code",
     "collapsed": false,
     "input": [
      "slp.inputs.elevation = \"elevation\""
     ],
     "language": "python",
     "metadata": {},
     "outputs": []
    },
    {
     "cell_type": "code",
     "collapsed": false,
     "input": [
      "print slp.inputs.elevation"
     ],
     "language": "python",
     "metadata": {},
     "outputs": []
    },
    {
     "cell_type": "code",
     "collapsed": false,
     "input": [
      "slp.inputs[\"format\"]"
     ],
     "language": "python",
     "metadata": {},
     "outputs": []
    },
    {
     "cell_type": "code",
     "collapsed": false,
     "input": [
      "print slp.inputs[\"format\"].__doc__"
     ],
     "language": "python",
     "metadata": {},
     "outputs": []
    },
    {
     "cell_type": "code",
     "collapsed": false,
     "input": [
      "slp.inputs.format = 'percents'"
     ],
     "language": "python",
     "metadata": {},
     "outputs": []
    },
    {
     "cell_type": "code",
     "collapsed": false,
     "input": [
      "slp.inputs.format = 'percent'"
     ],
     "language": "python",
     "metadata": {},
     "outputs": []
    },
    {
     "cell_type": "code",
     "collapsed": false,
     "input": [
      "slp.outputs.slope = 'slope'"
     ],
     "language": "python",
     "metadata": {},
     "outputs": []
    },
    {
     "cell_type": "code",
     "collapsed": false,
     "input": [
      "slp.flags = \"g\""
     ],
     "language": "python",
     "metadata": {},
     "outputs": []
    },
    {
     "cell_type": "code",
     "collapsed": false,
     "input": [
      "slp.flags = \"a\""
     ],
     "language": "python",
     "metadata": {},
     "outputs": []
    },
    {
     "cell_type": "code",
     "collapsed": false,
     "input": [
      "print slp.flags_dict.overwrite # --overwrite, --verbose, --quite"
     ],
     "language": "python",
     "metadata": {},
     "outputs": []
    },
    {
     "cell_type": "code",
     "collapsed": false,
     "input": [
      "slp.flags_dict.overwrite = True\n",
      "\n",
      "# run the module\n",
      "slp() # or slp.run()"
     ],
     "language": "python",
     "metadata": {},
     "outputs": []
    },
    {
     "cell_type": "code",
     "collapsed": false,
     "input": [
      "2 * 2\n"
     ],
     "language": "python",
     "metadata": {},
     "outputs": []
    },
    {
     "cell_type": "heading",
     "level": 3,
     "metadata": {},
     "source": [
      "Methods"
     ]
    },
    {
     "cell_type": "code",
     "collapsed": false,
     "input": [
      "print slp  # __str__"
     ],
     "language": "python",
     "metadata": {},
     "outputs": []
    },
    {
     "cell_type": "code",
     "collapsed": false,
     "input": [
      "repr(slp)  # __repr__"
     ],
     "language": "python",
     "metadata": {},
     "outputs": []
    },
    {
     "cell_type": "code",
     "collapsed": false,
     "input": [
      "from grass.pygrass.modules import Module\n",
      "slp = Module(\"r.slope.aspect\")\n",
      "slp(elevation='elevation', slope='slp',  aspect='asp', format='percent', overwrite=True, verbose=False, flags='a', run_=False)\n",
      "print slp.get_bash()\n",
      "print slp.get_python()"
     ],
     "language": "python",
     "metadata": {},
     "outputs": []
    },
    {
     "cell_type": "heading",
     "level": 2,
     "metadata": {},
     "source": [
      "Run as a function"
     ]
    },
    {
     "cell_type": "code",
     "collapsed": false,
     "input": [
      "slp(elevation='elevation', slope='slp',  aspect='asp', format='percent', overwrite=True)"
     ],
     "language": "python",
     "metadata": {},
     "outputs": []
    },
    {
     "cell_type": "heading",
     "level": 2,
     "metadata": {},
     "source": [
      "Special parameters"
     ]
    },
    {
     "cell_type": "heading",
     "level": 3,
     "metadata": {},
     "source": [
      "\"run_\" to run later"
     ]
    },
    {
     "cell_type": "code",
     "collapsed": false,
     "input": [
      "slp(elevation='elevation', slope='slp',  aspect='asp', format='percent', overwrite=True, run_=False)"
     ],
     "language": "python",
     "metadata": {},
     "outputs": []
    },
    {
     "cell_type": "heading",
     "level": 3,
     "metadata": {},
     "source": [
      "\"finish_\" to manage the process"
     ]
    },
    {
     "cell_type": "code",
     "collapsed": false,
     "input": [
      "slp(elevation='elevation', slope='slp',  aspect='asp', format='percent', overwrite=True, run_=True, finish_=False)"
     ],
     "language": "python",
     "metadata": {},
     "outputs": []
    },
    {
     "cell_type": "code",
     "collapsed": false,
     "input": [
      "slp.popen.wait() # .kill()"
     ],
     "language": "python",
     "metadata": {},
     "outputs": []
    },
    {
     "cell_type": "heading",
     "level": 3,
     "metadata": {},
     "source": [
      "\"stdin_\", \"stdout_\", \"stderr_\""
     ]
    },
    {
     "cell_type": "code",
     "collapsed": false,
     "input": [
      "from subprocess import PIPE\n",
      "\n",
      "slp(elevation='elevation', slope='slp',  aspect='asp', format='percent', overwrite=True, stderr_=PIPE, run_=True)"
     ],
     "language": "python",
     "metadata": {},
     "outputs": []
    },
    {
     "cell_type": "code",
     "collapsed": false,
     "input": [
      "print slp.outputs.stderr"
     ],
     "language": "python",
     "metadata": {},
     "outputs": []
    },
    {
     "cell_type": "code",
     "collapsed": false,
     "input": [
      "gmapset = g.mapset\n",
      "gmapset(mapset='_', flags='p', stdout_=PIPE)\n",
      "gmapset.outputs.stdout.strip()"
     ],
     "language": "python",
     "metadata": {},
     "outputs": []
    },
    {
     "cell_type": "heading",
     "level": 2,
     "metadata": {},
     "source": [
      "Summary"
     ]
    },
    {
     "cell_type": "markdown",
     "metadata": {},
     "source": [
      "We have seen:\n",
      "\n",
      "* how we can replace bash script with python;\n",
      "* how we can uopdate preaviews python script to use pygrass\n",
      "* play with the grass modules as objects, changing only few parameters;\n",
      "* give more power to the user with the special parameters \"*_\"."
     ]
    },
    {
     "cell_type": "heading",
     "level": 3,
     "metadata": {},
     "source": [
      "Exercise 2"
     ]
    },
    {
     "cell_type": "code",
     "collapsed": false,
     "input": [
      "%%bash \n",
      "g.region -p"
     ],
     "language": "python",
     "metadata": {},
     "outputs": []
    },
    {
     "cell_type": "markdown",
     "metadata": {},
     "source": [
      "Read the output of g.region and return a dictionary"
     ]
    },
    {
     "cell_type": "code",
     "collapsed": true,
     "input": [
      "gregion = g.region\n",
      "\n",
      "def get_region():\n",
      "    gregion(flags='p', stdout_=PIPE)\n",
      "    reg = {}\n",
      "    for row in gregion.outputs.stdout.splitlines():\n",
      "        key, value = row.split(':')\n",
      "        reg[key.strip()] = value.strip()\n",
      "    return reg\n",
      "\n",
      "get_region()"
     ],
     "language": "python",
     "metadata": {},
     "outputs": []
    },
    {
     "cell_type": "code",
     "collapsed": false,
     "input": [
      "%timeit get_region()"
     ],
     "language": "python",
     "metadata": {},
     "outputs": []
    },
    {
     "cell_type": "heading",
     "level": 2,
     "metadata": {},
     "source": [
      "More than modules"
     ]
    },
    {
     "cell_type": "markdown",
     "metadata": {},
     "source": [
      "pygrass allow user to use lower level functions, in a easier and fastest way. For example instead of wrap the output of the modules we can use the Region class to do the same:"
     ]
    },
    {
     "cell_type": "code",
     "collapsed": false,
     "input": [
      "from grass.pygrass.gis.region import Region"
     ],
     "language": "python",
     "metadata": {},
     "outputs": []
    },
    {
     "cell_type": "code",
     "collapsed": false,
     "input": [
      "Region()"
     ],
     "language": "python",
     "metadata": {},
     "outputs": []
    },
    {
     "cell_type": "code",
     "collapsed": false,
     "input": [
      "Region().iteritems()"
     ],
     "language": "python",
     "metadata": {},
     "outputs": []
    },
    {
     "cell_type": "code",
     "collapsed": false,
     "input": [
      "dict(Region().iteritems())"
     ],
     "language": "python",
     "metadata": {},
     "outputs": []
    },
    {
     "cell_type": "code",
     "collapsed": false,
     "input": [
      "%timeit dict(Region().iteritems())"
     ],
     "language": "python",
     "metadata": {},
     "outputs": []
    },
    {
     "cell_type": "markdown",
     "metadata": {},
     "source": [
      "How fast is it?"
     ]
    },
    {
     "cell_type": "code",
     "collapsed": false,
     "input": [
      "15.5 * 1000 / 12.4"
     ],
     "language": "python",
     "metadata": {},
     "outputs": []
    },
    {
     "cell_type": "code",
     "collapsed": false,
     "input": [],
     "language": "python",
     "metadata": {},
     "outputs": []
    }
   ],
   "metadata": {}
  }
 ]
}