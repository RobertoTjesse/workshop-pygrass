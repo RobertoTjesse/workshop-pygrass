{
 "metadata": {
  "name": "",
  "signature": "sha256:5ec781826031739c9647d1d50349994a08ad6deac9d2e8416b1ee58f751fca81"
 },
 "nbformat": 3,
 "nbformat_minor": 0,
 "worksheets": [
  {
   "cells": [
    {
     "cell_type": "heading",
     "level": 1,
     "metadata": {},
     "source": [
      "GRASS GIS introduction"
     ]
    },
    {
     "cell_type": "markdown",
     "metadata": {},
     "source": [
      "After launching GRASS GIS, the startup screen will open:"
     ]
    },
    {
     "cell_type": "markdown",
     "metadata": {},
     "source": [
      "![GRASS GIS 7 startup](images/grass_start.png)"
     ]
    },
    {
     "cell_type": "markdown",
     "metadata": {},
     "source": [
      "GRASS data are stored in a directory referred to as DATABASE (also called \"GISDBASE\"). Within this DATABASE, the projects are organized by project areas stored in subdirectories called **LOCATIONs**. "
     ]
    },
    {
     "cell_type": "markdown",
     "metadata": {},
     "source": [
      "A **LOCATION** *is defined by its coordinate system, map projection and geographical boundaries*. The subdirectories and files defining a LOCATION are created automatically when GRASS is started the first time with a new LOCATION. It is important to understand that each projection stays in its own LOCATION.\n",
      "\n",
      "See the *Location Wizard* to easily create a new LOCATION from scratch from a geocoded file, by defining the parameters or by selecting the corresponding EPSG projection code. "
     ]
    },
    {
     "cell_type": "markdown",
     "metadata": {},
     "source": [
      "Each LOCATION can have many **MAPSETs**. Each MAPSET is a LOCATION's subdirectory. New MAPSET can be added at GRASS startup (see related button). "
     ]
    },
    {
     "cell_type": "markdown",
     "metadata": {},
     "source": [
      "![GRASS GIS 7 location structure](images/help_loc_struct.png)"
     ]
    },
    {
     "cell_type": "markdown",
     "metadata": {},
     "source": [
      "One motivation to maintain *different MAPSETs is to store maps related to project issues or subregions*. Another motivation is to *support simultaneous access of several users* to the map layers stored within the same LOCATION, i.e. teams working on the same project. For teams, a centralized GRASS DATABASE would be defined in a shared network file system (e.g. NFS, Samba). Besides access to his/her own MAPSET, each user can also read map layers in other users' MAPSETs, but s/he *can modify or remove only the map layers in his/her own MAPSET*. "
     ]
    },
    {
     "cell_type": "markdown",
     "metadata": {},
     "source": [
      "When creating a new LOCATION, GRASS automatically creates a special MAPSET called PERMANENT where the core data for the project can be stored. Data in the PERMANENT MAPSET can only be added, modified or removed by the owner of the PERMANENT MAPSET; however, they can be accessed, analyzed, and copied into their own MAPSET by the other users. The PERMANENT MAPSET is useful for providing general spatial data (e.g. an elevation model), accessible but write-protected to all users who are working in the same LOCATION as the database owner"
     ]
    },
    {
     "cell_type": "heading",
     "level": 1,
     "metadata": {},
     "source": [
      "Python introduction"
     ]
    },
    {
     "cell_type": "markdown",
     "metadata": {},
     "source": [
      "[http://python.org](Python) is very popular programing language, which has it's supporters and haters. It's syntax is (if compared to other languages) specific among others because of the fact, no brackets are used - code blocks are separated by indentation. "
     ]
    },
    {
     "cell_type": "markdown",
     "metadata": {},
     "source": [
      "In the world of geomatics is Python very popular (and we can say, that it's popularity is growing). It's standing between simple scripting using SHELL commands nad more advanced coding on the sytem level in e.g. C. It can also be compared in some ways to Java platform. Most of the existing libraries and programs do have their API suitable for Python, like GRASS GIS Python API."
     ]
    },
    {
     "cell_type": "heading",
     "level": 2,
     "metadata": {},
     "source": [
      "Hello world"
     ]
    },
    {
     "cell_type": "markdown",
     "metadata": {},
     "source": [
      "This is really simple example to print something in Python"
     ]
    },
    {
     "cell_type": "code",
     "collapsed": false,
     "input": [
      "# we define a variable\n",
      "myvar = 'Hello world'\n",
      "# we print it, print is a Python function\n",
      "print myvar"
     ],
     "language": "python",
     "metadata": {},
     "outputs": []
    },
    {
     "cell_type": "markdown",
     "metadata": {},
     "source": [
      "Now we can create a simple function to do the same of before"
     ]
    },
    {
     "cell_type": "code",
     "collapsed": false,
     "input": [
      "# we define a new funtion\n",
      "def myprint(name):\n",
      "    \"\"\"Function doc string\n",
      "    \n",
      "    This function will print given name\n",
      "    \n",
      "    :param str name: the name to print\n",
      "    \"\"\"\n",
      "    # we use Python print and format function\n",
      "    print (\"Hello, {na}!\".format(na=name))\n",
      "    \n",
      "myprint('world')"
     ],
     "language": "python",
     "metadata": {},
     "outputs": []
    }
   ],
   "metadata": {}
  }
 ]
}